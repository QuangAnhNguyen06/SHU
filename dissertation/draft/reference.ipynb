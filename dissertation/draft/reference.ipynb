{
 "cells": [
  {
   "cell_type": "code",
   "execution_count": null,
   "metadata": {},
   "outputs": [],
   "source": [
    "'''\n",
    "\n",
    "for image_batch in dataset.take(1):\n",
    "    print(\"Batch shape (image):\", image_batch.shape)\n",
    "for npy_batch in dataset.take(1):\n",
    "    print(\"Batch shape (image):\", npy_batch.shape)\n",
    "\n",
    "'''"
   ]
  },
  {
   "cell_type": "code",
   "execution_count": null,
   "metadata": {},
   "outputs": [],
   "source": [
    "\"\"\"\n",
    "import matplotlib.pyplot as plt\n",
    "plt.plot(lr_decayed_fn(tf.range(EPOCHS*STEPS_PER_EPOCH, dtype=tf.float32)))\n",
    "plt.ylabel(\"Learning Rate\")\n",
    "plt.xlabel(\"Train Step\")\n",
    "plt.show()\n",
    "\n",
    "\"\"\"\n"
   ]
  },
  {
   "cell_type": "markdown",
   "metadata": {},
   "source": [
    "![alt text](image.png)"
   ]
  },
  {
   "cell_type": "code",
   "execution_count": null,
   "metadata": {},
   "outputs": [],
   "source": [
    "\"\"\"\n",
    "#import tensorflow as tf\n",
    "#from tensorflow.keras.applications import ResNet50\n",
    "#from tensorflow.keras.layers import GlobalAveragePooling2D, Dense\n",
    "# # 1. Tạo encoder từ ResNet50\n",
    "# def create_encoder():\n",
    "#     # Load ResNet50 pre-trained on ImageNet, exclude top layers.\n",
    "#     base_model = ResNet50(weights=\"imagenet\", include_top=False)\n",
    "#     base_model.trainable = True  # Fine-tune toàn bộ model hoặc điều chỉnh chỉ một số layer.\n",
    "\n",
    "#     # Add pooling and projection head\n",
    "#     inputs = tf.keras.Input(shape=(16392))  # Input cho ảnh kích thước (224, 224, 3)\n",
    "#     x = base_model(inputs, training=True)\n",
    "#     x = GlobalAveragePooling2D()(x)  # Pooling toàn cục để giảm chiều dữ liệu\n",
    "#     x = Dense(256, activation=None)(x)  # Projection head (dựa trên bài báo Barlow Twins)\n",
    "#     return tf.keras.Model(inputs, x)\n",
    "\"\"\""
   ]
  },
  {
   "cell_type": "code",
   "execution_count": null,
   "metadata": {},
   "outputs": [],
   "source": [
    "\"\"\"\n",
    "# In danh sách các cặp file\n",
    "for jpg_path, npy_path in file_pairs:\n",
    "    print(f\"JPG: {jpg_path}, NPY: {npy_path}\")\n",
    "\n",
    "a = []\n",
    "for jpg_path, npy_path in file_pairs:\n",
    "    a.append([\n",
    "        read_jpg_files(jpg_path),\n",
    "        read_and_parse_npy_file(npy_path)\n",
    "    ])\n",
    "\n",
    "# \"\"\""
   ]
  }
 ],
 "metadata": {
  "kernelspec": {
   "display_name": "env",
   "language": "python",
   "name": "python3"
  },
  "language_info": {
   "name": "python",
   "version": "3.10.11"
  }
 },
 "nbformat": 4,
 "nbformat_minor": 2
}
