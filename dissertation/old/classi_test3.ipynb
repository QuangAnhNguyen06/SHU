{
 "cells": [
  {
   "cell_type": "code",
   "execution_count": 1,
   "metadata": {},
   "outputs": [],
   "source": [
    "import os\n",
    "import numpy as np\n",
    "from PIL import Image\n",
    "import tensorflow as tf\n",
    "import random\n",
    "import lr_scheduler\n",
    "import func\n",
    "\n",
    "folder_path = \"F:/code/barlow/UR5\"\n",
    "file_pairs = func.load_file_pairs(folder_path)\n",
    "\n",
    "AUTO = tf.data.AUTOTUNE\n",
    "CROP_TO = 32\n",
    "SEED = 200\n",
    "\n",
    "PROJECT_DIM = 2048\n",
    "BATCH_SIZE = 32\n",
    "EPOCHS = 50"
   ]
  },
  {
   "cell_type": "code",
   "execution_count": 2,
   "metadata": {},
   "outputs": [],
   "source": [
    "random_500_similar, random_500_dissimilar, remaining_similar, remaining_dissimilar = func.split_and_shuffle_pairs(file_pairs, folder_path)\n",
    "\n",
    "def process_data(data_list):\n",
    "    return [\n",
    "        [func.read_jpg_files(jpg_path), func.read_and_parse_npy_file(npy_path)]\n",
    "        for jpg_path, npy_path in data_list\n",
    "    ]\n",
    "\n",
    "xtrain1 = process_data(random_500_similar)\n",
    "xtrain2 = process_data(random_500_dissimilar)\n",
    "xtest1 = process_data(remaining_similar)\n",
    "xtest2 = process_data(remaining_dissimilar)\n",
    "\n",
    "# label 1 - similar, 0 - disimilar\n",
    "ytrain1 = [1] * 500\n",
    "ytrain2 = [0] * 500\n",
    "ytest1 = [1] *79\n",
    "ytest2 = [0] *79\n",
    "\n",
    "y_train = ytrain1 + ytrain2\n",
    "y_test = ytest1 + ytest2\n",
    "x_train = xtrain1 + xtrain2\n",
    "x_test = xtest1 + xtest2"
   ]
  },
  {
   "cell_type": "code",
   "execution_count": 3,
   "metadata": {},
   "outputs": [],
   "source": [
    "def preprocess_data(data):\n",
    "    images = []\n",
    "    numerical_features = []\n",
    "    for image, features in data:\n",
    "        # flat\n",
    "        images.append(image.flatten())\n",
    "        numerical_features.append(features)\n",
    "    \n",
    "    images = np.array(images)\n",
    "    numerical_features = np.array(numerical_features)\n",
    "    \n",
    "    combined_features = np.hstack((images, numerical_features))\n",
    "    return combined_features\n",
    "\n",
    "\n",
    "X_train = preprocess_data(x_train)\n",
    "X_test = preprocess_data(x_test)\n",
    "y_train = np.array(y_train)\n",
    "y_test = np.array(y_test)"
   ]
  },
  {
   "cell_type": "code",
   "execution_count": 4,
   "metadata": {},
   "outputs": [],
   "source": [
    "def create_mlp_encoder(input_dim):\n",
    "    inputs = tf.keras.Input(shape=(input_dim,))\n",
    "    x = tf.keras.layers.Dense(512, activation=\"relu\")(inputs)\n",
    "    x = tf.keras.layers.Dense(256, activation=\"relu\")(x)\n",
    "    x = tf.keras.layers.Dense(128, activation=None)(x)  # Projection head\n",
    "    return tf.keras.Model(inputs, x)\n",
    "\n",
    "# Tạo encoder mới\n",
    "mlp_encoder = create_mlp_encoder(input_dim=16392)\n",
    "# Sử dụng encoder MLP cho Barlow Twins\n",
    "barlow_twins = func.BarlowTwins(encoder=mlp_encoder)\n",
    "optimizer = tf.keras.optimizers.SGD(learning_rate=0.0005, momentum=0.9)\n",
    "barlow_twins.compile(optimizer=optimizer)\n",
    "# barlow_twins.load_weights('bl.weights.h5')"
   ]
  },
  {
   "cell_type": "code",
   "execution_count": 5,
   "metadata": {},
   "outputs": [],
   "source": [
    "backbone = tf.keras.Model(\n",
    "    inputs=barlow_twins.encoder.input,\n",
    "    outputs=barlow_twins.encoder.layers[-1].output  # output từ lớp Dense(128)\n",
    ")\n",
    "# Freeze \n",
    "backbone.trainable = False\n",
    "\n",
    "# add classifier\n",
    "inputs = tf.keras.layers.Input(shape=(16392,))\n",
    "x = backbone(inputs, training=False)\n",
    "\n",
    "#outputs = tf.keras.layers.Dense(10, activation=\"relu\")(x)\n",
    "outputs = tf.keras.layers.Dense(2, activation=\"relu\")(x)\n",
    "\n",
    "test_model = tf.keras.Model(inputs, outputs, name=\"test_model\")\n"
   ]
  },
  {
   "cell_type": "code",
   "execution_count": 6,
   "metadata": {},
   "outputs": [
    {
     "ename": "AttributeError",
     "evalue": "'numpy.ndarray' object has no attribute 'shuffle'",
     "output_type": "error",
     "traceback": [
      "\u001b[1;31m---------------------------------------------------------------------------\u001b[0m",
      "\u001b[1;31mAttributeError\u001b[0m                            Traceback (most recent call last)",
      "Cell \u001b[1;32mIn[6], line 4\u001b[0m\n\u001b[0;32m      1\u001b[0m \u001b[38;5;66;03m# Shuffle train_ds vs test_ds\u001b[39;00m\n\u001b[0;32m      3\u001b[0m seed \u001b[38;5;241m=\u001b[39m \u001b[38;5;241m226\u001b[39m\n\u001b[1;32m----> 4\u001b[0m train_ds \u001b[38;5;241m=\u001b[39m \u001b[43mX_train\u001b[49m\u001b[38;5;241;43m.\u001b[39;49m\u001b[43mshuffle\u001b[49m(buffer_size\u001b[38;5;241m=\u001b[39m\u001b[38;5;241m10\u001b[39m, seed\u001b[38;5;241m=\u001b[39mseed, reshuffle_each_iteration\u001b[38;5;241m=\u001b[39m\u001b[38;5;28;01mTrue\u001b[39;00m)\n\u001b[0;32m      5\u001b[0m test_ds \u001b[38;5;241m=\u001b[39m X_test\u001b[38;5;241m.\u001b[39mshuffle(buffer_size\u001b[38;5;241m=\u001b[39m\u001b[38;5;241m10\u001b[39m, seed\u001b[38;5;241m=\u001b[39mseed, reshuffle_each_iteration\u001b[38;5;241m=\u001b[39m\u001b[38;5;28;01mTrue\u001b[39;00m)\n",
      "\u001b[1;31mAttributeError\u001b[0m: 'numpy.ndarray' object has no attribute 'shuffle'"
     ]
    }
   ],
   "source": [
    "# Shuffle train_ds vs test_ds\n",
    "\n",
    "seed = 226\n",
    "train_ds = X_train.shuffle(buffer_size=10, seed=seed, reshuffle_each_iteration=True)\n",
    "test_ds = X_test.shuffle(buffer_size=10, seed=seed, reshuffle_each_iteration=True)\n"
   ]
  },
  {
   "cell_type": "code",
   "execution_count": null,
   "metadata": {},
   "outputs": [],
   "source": [
    "# Standard Scaler\n",
    "scaler = StandardScaler()\n",
    "X_train = scaler.fit_transform(X_train)\n",
    "X_test = scaler.transform(X_test)\n"
   ]
  },
  {
   "cell_type": "code",
   "execution_count": 7,
   "metadata": {},
   "outputs": [
    {
     "ename": "NameError",
     "evalue": "name 'train_ds' is not defined",
     "output_type": "error",
     "traceback": [
      "\u001b[1;31m---------------------------------------------------------------------------\u001b[0m",
      "\u001b[1;31mNameError\u001b[0m                                 Traceback (most recent call last)",
      "Cell \u001b[1;32mIn[7], line 9\u001b[0m\n\u001b[0;32m      1\u001b[0m \u001b[38;5;66;03m# Compile model\u001b[39;00m\n\u001b[0;32m      2\u001b[0m test_model\u001b[38;5;241m.\u001b[39mcompile(\n\u001b[0;32m      3\u001b[0m     loss\u001b[38;5;241m=\u001b[39m\u001b[38;5;124m\"\u001b[39m\u001b[38;5;124msparse_categorical_crossentropy\u001b[39m\u001b[38;5;124m\"\u001b[39m,\n\u001b[0;32m      4\u001b[0m     metrics\u001b[38;5;241m=\u001b[39m[\u001b[38;5;124m\"\u001b[39m\u001b[38;5;124maccuracy\u001b[39m\u001b[38;5;124m\"\u001b[39m],\n\u001b[0;32m      5\u001b[0m     optimizer\u001b[38;5;241m=\u001b[39mtf\u001b[38;5;241m.\u001b[39mkeras\u001b[38;5;241m.\u001b[39moptimizers\u001b[38;5;241m.\u001b[39mSGD(learning_rate\u001b[38;5;241m=\u001b[39m\u001b[38;5;241m0.00005\u001b[39m, momentum\u001b[38;5;241m=\u001b[39m\u001b[38;5;241m0.9\u001b[39m)\n\u001b[0;32m      6\u001b[0m )\n\u001b[0;32m      8\u001b[0m history \u001b[38;5;241m=\u001b[39m test_model\u001b[38;5;241m.\u001b[39mfit(\n\u001b[1;32m----> 9\u001b[0m     \u001b[43mtrain_ds\u001b[49m, validation_data\u001b[38;5;241m=\u001b[39mtest_ds, epochs\u001b[38;5;241m=\u001b[39m\u001b[38;5;241m100\u001b[39m\n\u001b[0;32m     10\u001b[0m )\n\u001b[0;32m     12\u001b[0m _, test_acc \u001b[38;5;241m=\u001b[39m test_model\u001b[38;5;241m.\u001b[39mevaluate(test_ds)\n\u001b[0;32m     13\u001b[0m \u001b[38;5;28mprint\u001b[39m(\u001b[38;5;124m\"\u001b[39m\u001b[38;5;124mTest accuracy: \u001b[39m\u001b[38;5;132;01m{:.2f}\u001b[39;00m\u001b[38;5;124m%\u001b[39m\u001b[38;5;124m\"\u001b[39m\u001b[38;5;241m.\u001b[39mformat(test_acc \u001b[38;5;241m*\u001b[39m \u001b[38;5;241m100\u001b[39m))\n",
      "\u001b[1;31mNameError\u001b[0m: name 'train_ds' is not defined"
     ]
    }
   ],
   "source": [
    "# Compile model\n",
    "test_model.compile(\n",
    "    loss=\"sparse_categorical_crossentropy\",\n",
    "    metrics=[\"accuracy\"],\n",
    "    optimizer=tf.keras.optimizers.SGD(learning_rate=0.00005, momentum=0.9)\n",
    ")\n",
    "\n",
    "history = test_model.fit(\n",
    "    train_ds, validation_data=test_ds, epochs=100\n",
    ")\n",
    "\n",
    "_, test_acc = test_model.evaluate(test_ds)\n",
    "print(\"Test accuracy: {:.2f}%\".format(test_acc * 100))"
   ]
  }
 ],
 "metadata": {
  "kernelspec": {
   "display_name": "env",
   "language": "python",
   "name": "python3"
  },
  "language_info": {
   "codemirror_mode": {
    "name": "ipython",
    "version": 3
   },
   "file_extension": ".py",
   "mimetype": "text/x-python",
   "name": "python",
   "nbconvert_exporter": "python",
   "pygments_lexer": "ipython3",
   "version": "3.10.11"
  }
 },
 "nbformat": 4,
 "nbformat_minor": 2
}
