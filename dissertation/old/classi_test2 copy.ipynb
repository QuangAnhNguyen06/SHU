{
 "cells": [
  {
   "cell_type": "code",
   "execution_count": 1,
   "metadata": {},
   "outputs": [],
   "source": [
    "import os\n",
    "import numpy as np\n",
    "from PIL import Image\n",
    "import tensorflow as tf\n",
    "import random\n",
    "import lr_scheduler\n",
    "import func\n",
    "from sklearn.model_selection import train_test_split\n",
    "\n",
    "folder_path = \"F:/code/barlow/UR5\"\n",
    "file_pairs = func.load_file_pairs(folder_path)\n",
    "\n",
    "AUTO = tf.data.AUTOTUNE\n",
    "CROP_TO = 32\n",
    "SEED = 200\n",
    "\n",
    "PROJECT_DIM = 2048\n",
    "BATCH_SIZE = 32\n",
    "EPOCHS = 50"
   ]
  },
  {
   "cell_type": "code",
   "execution_count": 2,
   "metadata": {},
   "outputs": [],
   "source": [
    "random_500_similar, random_500_dissimilar, remaining_similar, remaining_dissimilar = func.split_and_shuffle_pairs(file_pairs, folder_path)\n",
    "\n",
    "def process_data(data_list):\n",
    "    return [\n",
    "        [func.read_jpg_files(jpg_path), func.read_and_parse_npy_file(npy_path)]\n",
    "        for jpg_path, npy_path in data_list\n",
    "    ]\n",
    "\n",
    "xtrain1 = process_data(random_500_similar)\n",
    "xtrain2 = process_data(random_500_dissimilar)\n",
    "xtest1 = process_data(remaining_similar)\n",
    "xtest2 = process_data(remaining_dissimilar)\n",
    "\n",
    "# label 1 - similar, 0 - disimilar\n",
    "ytrain1 = [1] * 500\n",
    "ytrain2 = [0] * 500\n",
    "ytest1 = [1] *79\n",
    "ytest2 = [0] *79\n",
    "\n",
    "y_train = ytrain1 + ytrain2\n",
    "y_test = ytest1 + ytest2\n",
    "x_train = xtrain1 + xtrain2\n",
    "x_test = xtest1 + xtest2"
   ]
  },
  {
   "cell_type": "code",
   "execution_count": 3,
   "metadata": {},
   "outputs": [
    {
     "data": {
      "text/plain": [
       "158"
      ]
     },
     "execution_count": 3,
     "metadata": {},
     "output_type": "execute_result"
    }
   ],
   "source": [
    "len(x_test)"
   ]
  },
  {
   "cell_type": "code",
   "execution_count": 4,
   "metadata": {},
   "outputs": [
    {
     "name": "stdout",
     "output_type": "stream",
     "text": [
      "Size of x_test: 88, Size of x_val: 70\n",
      "Size of y_test: 88, Size of y_val: 70\n"
     ]
    }
   ],
   "source": [
    "# Tách test data (40 mẫu) và validation data (39 mẫu)\n",
    "x_test, x_val, y_test, y_val = train_test_split(\n",
    "    x_test, y_test, test_size=70, random_state=42  # random_state để đảm bảo reproducibility\n",
    ")\n",
    "\n",
    "# Kiểm tra kích thước dữ liệu\n",
    "print(f\"Size of x_test: {len(x_test)}, Size of x_val: {len(x_val)}\")\n",
    "print(f\"Size of y_test: {len(y_test)}, Size of y_val: {len(y_val)}\")\n"
   ]
  },
  {
   "cell_type": "code",
   "execution_count": 5,
   "metadata": {},
   "outputs": [],
   "source": [
    "# Train data\n",
    "t1 = np.array([item[0] for item in x_train])  # Lấy phần ảnh\n",
    "t2 = np.array([item[1] for item in x_train])  # Lấy phần npy vector\n",
    "train_ds = tf.data.Dataset.from_tensor_slices(((t1, t2),y_train))\n",
    "train_ds = train_ds.map(\n",
    "    lambda inputs, y: (func.combine_data(*inputs), y),\n",
    "    num_parallel_calls=tf.data.AUTOTUNE\n",
    ")\n",
    "train_ds = (\n",
    "    train_ds\n",
    "    .batch(BATCH_SIZE)\n",
    "    .prefetch(tf.data.AUTOTUNE)\n",
    ")"
   ]
  },
  {
   "cell_type": "code",
   "execution_count": 6,
   "metadata": {},
   "outputs": [],
   "source": [
    "# Test data\n",
    "t3 = np.array([item[0] for item in x_test])  # Lấy phần ảnh\n",
    "t4 = np.array([item[1] for item in x_test])  # Lấy phần npy vector\n",
    "test_ds = tf.data.Dataset.from_tensor_slices(((t3, t4),y_test))\n",
    "test_ds = test_ds.map(\n",
    "    lambda inputs, y: (func.combine_data(*inputs), y),\n",
    "    num_parallel_calls=tf.data.AUTOTUNE\n",
    ")\n",
    "test_ds = (\n",
    "    test_ds\n",
    "    .batch(BATCH_SIZE)\n",
    "    .prefetch(tf.data.AUTOTUNE)\n",
    ")"
   ]
  },
  {
   "cell_type": "code",
   "execution_count": 7,
   "metadata": {},
   "outputs": [],
   "source": [
    "# Test data\n",
    "t5 = np.array([item[0] for item in x_test])  # Lấy phần ảnh\n",
    "t6 = np.array([item[1] for item in x_test])  # Lấy phần npy vector\n",
    "val_ds = tf.data.Dataset.from_tensor_slices(((t5, t6),y_test))\n",
    "val_ds = val_ds.map(\n",
    "    lambda inputs, y: (func.combine_data(*inputs), y),\n",
    "    num_parallel_calls=tf.data.AUTOTUNE\n",
    ")\n",
    "val_ds = (\n",
    "    val_ds\n",
    "    .batch(BATCH_SIZE)\n",
    "    .prefetch(tf.data.AUTOTUNE)\n",
    ")"
   ]
  },
  {
   "cell_type": "code",
   "execution_count": 8,
   "metadata": {},
   "outputs": [
    {
     "name": "stderr",
     "output_type": "stream",
     "text": [
      "f:\\code\\barlow\\env\\lib\\site-packages\\keras\\src\\saving\\saving_lib.py:719: UserWarning: Skipping variable loading for optimizer 'SGD', because it has 2 variables whereas the saved optimizer has 7 variables. \n",
      "  saveable.load_own_variables(weights_store.get(inner_path))\n"
     ]
    }
   ],
   "source": [
    "def create_mlp_encoder(input_dim):\n",
    "    inputs = tf.keras.Input(shape=(input_dim,))\n",
    "    x = tf.keras.layers.Dense(512, activation=\"relu\")(inputs)\n",
    "    x = tf.keras.layers.Dense(256, activation=\"relu\")(x)\n",
    "    x = tf.keras.layers.Dense(128, activation=None)(x)  # Projection head\n",
    "    return tf.keras.Model(inputs, x)\n",
    "\n",
    "# Tạo encoder mới\n",
    "mlp_encoder = create_mlp_encoder(input_dim=16392)\n",
    "# Sử dụng encoder MLP cho Barlow Twins\n",
    "barlow_twins = func.BarlowTwins(encoder=mlp_encoder)\n",
    "optimizer = tf.keras.optimizers.SGD(learning_rate=0.00005, momentum=0.9)\n",
    "barlow_twins.compile(optimizer=optimizer)\n",
    "\n",
    "barlow_twins.load_weights('bl.weights.h5')"
   ]
  },
  {
   "cell_type": "code",
   "execution_count": 9,
   "metadata": {},
   "outputs": [],
   "source": [
    "# Extract backbone từ MLP encoder\n",
    "backbone = tf.keras.Model(\n",
    "    inputs=barlow_twins.encoder.input,\n",
    "    outputs=barlow_twins.encoder.layers[-1].output  # output từ lớp Dense(128)\n",
    ")\n",
    "# Freeze backbone\n",
    "backbone.trainable = False\n",
    "\n",
    "# Thêm classifier\n",
    "inputs = tf.keras.layers.Input(shape=(16392,))\n",
    "x = backbone(inputs, training=False)\n",
    "\n",
    "#outputs = tf.keras.layers.Dense(10, activation=\"relu\")(x)\n",
    "outputs = tf.keras.layers.Dense(2, activation=\"relu\")(x)\n",
    "\n",
    "test_model = tf.keras.Model(inputs, outputs, name=\"test_model\")\n"
   ]
  },
  {
   "cell_type": "code",
   "execution_count": 10,
   "metadata": {},
   "outputs": [],
   "source": [
    "# Shuffle train_ds vs test_ds \n",
    "seed = 123\n",
    "train_ds = train_ds.shuffle(buffer_size=10, seed=seed, reshuffle_each_iteration=True)\n",
    "test_ds = test_ds.shuffle(buffer_size=10, seed=seed, reshuffle_each_iteration=True)\n",
    "val_ds = val_ds.shuffle(buffer_size=10, seed=seed, reshuffle_each_iteration=True)"
   ]
  },
  {
   "cell_type": "code",
   "execution_count": 13,
   "metadata": {},
   "outputs": [
    {
     "name": "stdout",
     "output_type": "stream",
     "text": [
      "Epoch 1/10\n",
      "\u001b[1m32/32\u001b[0m \u001b[32m━━━━━━━━━━━━━━━━━━━━\u001b[0m\u001b[37m\u001b[0m \u001b[1m0s\u001b[0m 7ms/step - accuracy: 0.7497 - loss: 4.0346 - val_accuracy: 0.5000 - val_loss: 8.0590\n",
      "Epoch 2/10\n",
      "\u001b[1m32/32\u001b[0m \u001b[32m━━━━━━━━━━━━━━━━━━━━\u001b[0m\u001b[37m\u001b[0m \u001b[1m0s\u001b[0m 4ms/step - accuracy: 0.7505 - loss: 4.0219 - val_accuracy: 0.5000 - val_loss: 8.0590\n",
      "Epoch 3/10\n",
      "\u001b[1m32/32\u001b[0m \u001b[32m━━━━━━━━━━━━━━━━━━━━\u001b[0m\u001b[37m\u001b[0m \u001b[1m0s\u001b[0m 5ms/step - accuracy: 0.7197 - loss: 4.5176 - val_accuracy: 0.5000 - val_loss: 8.0590\n",
      "Epoch 4/10\n",
      "\u001b[1m32/32\u001b[0m \u001b[32m━━━━━━━━━━━━━━━━━━━━\u001b[0m\u001b[37m\u001b[0m \u001b[1m0s\u001b[0m 4ms/step - accuracy: 0.7370 - loss: 4.2383 - val_accuracy: 0.5000 - val_loss: 8.0590\n",
      "Epoch 5/10\n",
      "\u001b[1m32/32\u001b[0m \u001b[32m━━━━━━━━━━━━━━━━━━━━\u001b[0m\u001b[37m\u001b[0m \u001b[1m0s\u001b[0m 4ms/step - accuracy: 0.7369 - loss: 4.2406 - val_accuracy: 0.5000 - val_loss: 8.0590\n",
      "Epoch 6/10\n",
      "\u001b[1m32/32\u001b[0m \u001b[32m━━━━━━━━━━━━━━━━━━━━\u001b[0m\u001b[37m\u001b[0m \u001b[1m0s\u001b[0m 4ms/step - accuracy: 0.8017 - loss: 3.1955 - val_accuracy: 0.5000 - val_loss: 8.0590\n",
      "Epoch 7/10\n",
      "\u001b[1m32/32\u001b[0m \u001b[32m━━━━━━━━━━━━━━━━━━━━\u001b[0m\u001b[37m\u001b[0m \u001b[1m0s\u001b[0m 4ms/step - accuracy: 0.7889 - loss: 3.4033 - val_accuracy: 0.5000 - val_loss: 8.0590\n",
      "Epoch 8/10\n",
      "\u001b[1m32/32\u001b[0m \u001b[32m━━━━━━━━━━━━━━━━━━━━\u001b[0m\u001b[37m\u001b[0m \u001b[1m0s\u001b[0m 4ms/step - accuracy: 0.7723 - loss: 3.6694 - val_accuracy: 0.5000 - val_loss: 8.0590\n",
      "Epoch 9/10\n",
      "\u001b[1m32/32\u001b[0m \u001b[32m━━━━━━━━━━━━━━━━━━━━\u001b[0m\u001b[37m\u001b[0m \u001b[1m0s\u001b[0m 4ms/step - accuracy: 0.7628 - loss: 3.8235 - val_accuracy: 0.5000 - val_loss: 8.0590\n",
      "Epoch 10/10\n",
      "\u001b[1m32/32\u001b[0m \u001b[32m━━━━━━━━━━━━━━━━━━━━\u001b[0m\u001b[37m\u001b[0m \u001b[1m0s\u001b[0m 4ms/step - accuracy: 0.7722 - loss: 3.6719 - val_accuracy: 0.5000 - val_loss: 8.0590\n",
      "\u001b[1m3/3\u001b[0m \u001b[32m━━━━━━━━━━━━━━━━━━━━\u001b[0m\u001b[37m\u001b[0m \u001b[1m0s\u001b[0m 4ms/step - accuracy: 0.4911 - loss: 8.2030 \n",
      "Test accuracy: 50.00%\n"
     ]
    }
   ],
   "source": [
    "# Compile model\n",
    "test_model.compile(\n",
    "    loss=\"sparse_categorical_crossentropy\",\n",
    "    metrics=[\"accuracy\"],\n",
    "    #optimizer = tf.keras.optimizers.SGD(learning_rate=0.00005, momentum=0.9)\n",
    ")\n",
    "\n",
    "history = test_model.fit(\n",
    "    train_ds, validation_data=val_ds, epochs=10\n",
    ")\n",
    "\n",
    "_, test_acc = test_model.evaluate(test_ds)\n",
    "print(\"Test accuracy: {:.2f}%\".format(test_acc * 100))\n"
   ]
  },
  {
   "cell_type": "code",
   "execution_count": 12,
   "metadata": {},
   "outputs": [
    {
     "name": "stdout",
     "output_type": "stream",
     "text": [
      "Epoch 1/10\n",
      "\u001b[1m32/32\u001b[0m \u001b[32m━━━━━━━━━━━━━━━━━━━━\u001b[0m\u001b[37m\u001b[0m \u001b[1m1s\u001b[0m 6ms/step - accuracy: 0.7712 - loss: 3.6884 - val_accuracy: 0.5000 - val_loss: 8.0590\n",
      "Epoch 2/10\n",
      "\u001b[1m32/32\u001b[0m \u001b[32m━━━━━━━━━━━━━━━━━━━━\u001b[0m\u001b[37m\u001b[0m \u001b[1m0s\u001b[0m 4ms/step - accuracy: 0.7386 - loss: 4.2129 - val_accuracy: 0.5000 - val_loss: 8.0590\n",
      "Epoch 3/10\n",
      "\u001b[1m32/32\u001b[0m \u001b[32m━━━━━━━━━━━━━━━━━━━━\u001b[0m\u001b[37m\u001b[0m \u001b[1m0s\u001b[0m 4ms/step - accuracy: 0.7715 - loss: 3.6833 - val_accuracy: 0.5000 - val_loss: 8.0590\n",
      "Epoch 4/10\n",
      "\u001b[1m32/32\u001b[0m \u001b[32m━━━━━━━━━━━━━━━━━━━━\u001b[0m\u001b[37m\u001b[0m \u001b[1m0s\u001b[0m 4ms/step - accuracy: 0.7618 - loss: 3.8387 - val_accuracy: 0.5000 - val_loss: 8.0590\n",
      "Epoch 5/10\n",
      "\u001b[1m32/32\u001b[0m \u001b[32m━━━━━━━━━━━━━━━━━━━━\u001b[0m\u001b[37m\u001b[0m \u001b[1m0s\u001b[0m 4ms/step - accuracy: 0.7641 - loss: 3.8029 - val_accuracy: 0.5000 - val_loss: 8.0590\n",
      "Epoch 6/10\n",
      "\u001b[1m32/32\u001b[0m \u001b[32m━━━━━━━━━━━━━━━━━━━━\u001b[0m\u001b[37m\u001b[0m \u001b[1m0s\u001b[0m 4ms/step - accuracy: 0.6990 - loss: 4.8519 - val_accuracy: 0.5000 - val_loss: 8.0590\n",
      "Epoch 7/10\n",
      "\u001b[1m32/32\u001b[0m \u001b[32m━━━━━━━━━━━━━━━━━━━━\u001b[0m\u001b[37m\u001b[0m \u001b[1m0s\u001b[0m 4ms/step - accuracy: 0.7606 - loss: 3.8588 - val_accuracy: 0.5000 - val_loss: 8.0590\n",
      "Epoch 8/10\n",
      "\u001b[1m32/32\u001b[0m \u001b[32m━━━━━━━━━━━━━━━━━━━━\u001b[0m\u001b[37m\u001b[0m \u001b[1m0s\u001b[0m 4ms/step - accuracy: 0.7594 - loss: 3.8783 - val_accuracy: 0.5000 - val_loss: 8.0590\n",
      "Epoch 9/10\n",
      "\u001b[1m32/32\u001b[0m \u001b[32m━━━━━━━━━━━━━━━━━━━━\u001b[0m\u001b[37m\u001b[0m \u001b[1m0s\u001b[0m 4ms/step - accuracy: 0.7724 - loss: 3.6683 - val_accuracy: 0.5000 - val_loss: 8.0590\n",
      "Epoch 10/10\n",
      "\u001b[1m32/32\u001b[0m \u001b[32m━━━━━━━━━━━━━━━━━━━━\u001b[0m\u001b[37m\u001b[0m \u001b[1m0s\u001b[0m 4ms/step - accuracy: 0.8030 - loss: 3.1748 - val_accuracy: 0.5000 - val_loss: 8.0590\n",
      "\u001b[1m3/3\u001b[0m \u001b[32m━━━━━━━━━━━━━━━━━━━━\u001b[0m\u001b[37m\u001b[0m \u001b[1m0s\u001b[0m 4ms/step - accuracy: 0.5156 - loss: 7.8072 \n",
      "Test accuracy: 50.00%\n"
     ]
    }
   ],
   "source": [
    "# Compile model\n",
    "test_model.compile(\n",
    "    loss=\"sparse_categorical_crossentropy\",\n",
    "    metrics=[\"accuracy\"],\n",
    "    #optimizer = tf.keras.optimizers.SGD(learning_rate=0.00005, momentum=0.9)\n",
    ")\n",
    "\n",
    "history = test_model.fit(\n",
    "    train_ds, validation_data=test_ds, epochs=10\n",
    ")\n",
    "\n",
    "_, test_acc = test_model.evaluate(val_ds)\n",
    "print(\"Test accuracy: {:.2f}%\".format(test_acc * 100))\n"
   ]
  }
 ],
 "metadata": {
  "kernelspec": {
   "display_name": "env",
   "language": "python",
   "name": "python3"
  },
  "language_info": {
   "codemirror_mode": {
    "name": "ipython",
    "version": 3
   },
   "file_extension": ".py",
   "mimetype": "text/x-python",
   "name": "python",
   "nbconvert_exporter": "python",
   "pygments_lexer": "ipython3",
   "version": "3.10.11"
  }
 },
 "nbformat": 4,
 "nbformat_minor": 2
}
