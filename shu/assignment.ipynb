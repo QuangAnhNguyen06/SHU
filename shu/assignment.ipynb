{
  "metadata": {
    "kernelspec": {
      "name": "python",
      "display_name": "Python (Pyodide)",
      "language": "python"
    },
    "language_info": {
      "codemirror_mode": {
        "name": "python",
        "version": 3
      },
      "file_extension": ".py",
      "mimetype": "text/x-python",
      "name": "python",
      "nbconvert_exporter": "python",
      "pygments_lexer": "ipython3",
      "version": "3.8"
    }
  },
  "nbformat_minor": 4,
  "nbformat": 4,
  "cells": [
    {
      "cell_type": "markdown",
      "source": "## Notebook for final assignment",
      "metadata": {}
    },
    {
      "cell_type": "markdown",
      "source": "### Introduction\nThis notebook contains examples and exercises related to final assignment.\n",
      "metadata": {}
    },
    {
      "cell_type": "markdown",
      "source": "### Data Science Languages\n- Python\n- R\n- SQL\n- Java\n- Scala",
      "metadata": {}
    },
    {
      "cell_type": "markdown",
      "source": "### Data Science Libraries\n- NumPy\n- Pandas\n- SciPy\n- Scikit-learn\n- TensorFlow\n- Pytorch\n- Keras\n- Matplotlib\n- Seaborn\n",
      "metadata": {}
    },
    {
      "cell_type": "markdown",
      "source": "### Data Science Tools\n           \n- Jupyter\n- RStudio                                   \n- Apache Hadoop     \n- Apache Spark                \n- Tableau                  \n",
      "metadata": {}
    },
    {
      "cell_type": "markdown",
      "source": "### Arithmetic Expression Examples\nBelow are examples of basic arithmetic operations.\n",
      "metadata": {}
    },
    {
      "cell_type": "code",
      "source": "a = 22\nb = 6\nc = 2000\nd = 2024\n\nresult1 = a+b\nresult2 = c*d\n\nprint(result1)\nprint(result2)",
      "metadata": {
        "trusted": true
      },
      "outputs": [
        {
          "name": "stdout",
          "text": "28\n4048000\n",
          "output_type": "stream"
        }
      ],
      "execution_count": 4
    },
    {
      "cell_type": "code",
      "source": "def convert(minute):\n    return minute/60\n\nhour = convert(600)\nprint(hour)",
      "metadata": {
        "trusted": true
      },
      "outputs": [
        {
          "name": "stdout",
          "text": "10.0\n",
          "output_type": "stream"
        }
      ],
      "execution_count": 5
    },
    {
      "cell_type": "markdown",
      "source": "### Objectives\n- Learn Data Warehouse\n- Understand big data tools and libraries\n- Get data engineer, data scientist certificate\n",
      "metadata": {}
    },
    {
      "cell_type": "markdown",
      "source": "### Author\nNguyen Quang Anh\n",
      "metadata": {}
    }
  ]
}