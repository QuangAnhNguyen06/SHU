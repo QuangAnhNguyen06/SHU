{
  "metadata": {
    "kernelspec": {
      "name": "python",
      "display_name": "Python (Pyodide)",
      "language": "python"
    },
    "language_info": {
      "codemirror_mode": {
        "name": "python",
        "version": 3
      },
      "file_extension": ".py",
      "mimetype": "text/x-python",
      "name": "python",
      "nbconvert_exporter": "python",
      "pygments_lexer": "ipython3",
      "version": "3.8"
    }
  },
  "nbformat_minor": 4,
  "nbformat": 4,
  "cells": [
    {
      "cell_type": "markdown",
      "source": "# Data Science Tools and Ecosystem\n",
      "metadata": {}
    },
    {
      "cell_type": "markdown",
      "source": "## Introduction\nThis notebook contains examples and exercises related to data science.",
      "metadata": {}
    },
    {
      "cell_type": "markdown",
      "source": "## Data Science Languages\nSome of the popular languages:\n- Python\n- R\n- SQL\n- Java\n- Julia\n- Scala\n",
      "metadata": {}
    },
    {
      "cell_type": "markdown",
      "source": "## Data Science Libraries\nSome of the commonly used libraries used by Data Scientists include:\n- NumPy\n- Pandas\n- SciPy\n- Scikit-learn\n- TensorFlow\n- Keras\n- Matplotlib\n- Seaborn\n",
      "metadata": {}
    },
    {
      "cell_type": "markdown",
      "source": "\n## Data Science Tools\n\n| Tool           |\n|----------------|\n| Jupyter        | \n| RStudio        | \n| Apache Hadoop  | \n| Apache Spark   | \n| Tableau        |\n",
      "metadata": {}
    },
    {
      "cell_type": "markdown",
      "source": "### Arithmetic Expression Examples\nBelow are examples of basic arithmetic operations.\n",
      "metadata": {}
    },
    {
      "cell_type": "code",
      "source": "## This a simple arithmetic expression to mutiply then add integers\nresult = (3*4)+5\nresult",
      "metadata": {
        "trusted": true
      },
      "outputs": [
        {
          "execution_count": 2,
          "output_type": "execute_result",
          "data": {
            "text/plain": "17"
          },
          "metadata": {}
        }
      ],
      "execution_count": 2
    },
    {
      "cell_type": "code",
      "source": "## This will convert 200 minutes to hours by diving by 60\nminute = 200\nhour = minute/60\nhour",
      "metadata": {
        "trusted": true
      },
      "outputs": [
        {
          "execution_count": 3,
          "output_type": "execute_result",
          "data": {
            "text/plain": "3.3333333333333335"
          },
          "metadata": {}
        }
      ],
      "execution_count": 3
    },
    {
      "cell_type": "markdown",
      "source": "**Objectives**\n- List popular languages for Data Science\n- List popular libraries for Data Science\n- List tools for Data Science",
      "metadata": {}
    },
    {
      "cell_type": "markdown",
      "source": "## Author:\nNguyen Quang Anh",
      "metadata": {}
    }
  ]
}